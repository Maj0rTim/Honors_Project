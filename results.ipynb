{
 "cells": [
  {
   "cell_type": "code",
   "execution_count": 3,
   "metadata": {},
   "outputs": [
    {
     "ename": "ModuleNotFoundError",
     "evalue": "No module named 'numpy'",
     "output_type": "error",
     "traceback": [
      "\u001b[0;31m---------------------------------------------------------------------------\u001b[0m",
      "\u001b[0;31mModuleNotFoundError\u001b[0m                       Traceback (most recent call last)",
      "Cell \u001b[0;32mIn[3], line 1\u001b[0m\n\u001b[0;32m----> 1\u001b[0m \u001b[38;5;28;01mimport\u001b[39;00m \u001b[38;5;21;01mnumpy\u001b[39;00m \u001b[38;5;28;01mas\u001b[39;00m \u001b[38;5;21;01mnp\u001b[39;00m\n\u001b[1;32m      2\u001b[0m \u001b[38;5;28;01mimport\u001b[39;00m \u001b[38;5;21;01mpandas\u001b[39;00m \u001b[38;5;28;01mas\u001b[39;00m \u001b[38;5;21;01mpd\u001b[39;00m\n\u001b[1;32m      3\u001b[0m \u001b[38;5;28;01mimport\u001b[39;00m \u001b[38;5;21;01mseaborn\u001b[39;00m \u001b[38;5;28;01mas\u001b[39;00m \u001b[38;5;21;01msns\u001b[39;00m\n",
      "\u001b[0;31mModuleNotFoundError\u001b[0m: No module named 'numpy'"
     ]
    }
   ],
   "source": [
    "import numpy as np\n",
    "import pandas as pd\n",
    "import seaborn as sns\n",
    "from  matplotlib import pyplot as plt\n",
    "\n",
    "plt.style.use('fivethirtyeight')"
   ]
  },
  {
   "cell_type": "code",
   "execution_count": null,
   "metadata": {},
   "outputs": [],
   "source": [
    "pipe = [15164, 18288, 15797, 16452, 20822, 17969, 20786, 16504, 25305, 24131, 22477, 18322, 24448, 22114, 18773, 20599, 21429, 23447, 21392, 20891, 21378, 20503, 20238, 19569, 21441, 21666, 22361, 22152, 25854, 25237, 26068, 27307, 27031, 28533, 28522, 29493, 30584, 31545, 35452, 31797]\n",
    "queue = [10836, 13775, 12431, 14303, 18408, 16183, 17477, 13741, 20016, 27184, 28603, 25124, 26120, 25902, 22937, 22807, 15190, 14886, 16293, 15892, 17007, 17467, 17988, 18563, 20327, 21428, 21447, 22064, 24069, 25473, 27782, 27756, 28833, 28682, 29479, 29256, 30875, 32153, 32398, 33724]\n",
    "shared = []\n",
    "sockets = []\n",
    "\n",
    "fig, ax = plt.subplots(figsize=(8, 4), dpi=100)\n",
    "ax.plot(pipes)\n",
    "ax.plot(queue)\n",
    "ax.plot(shared)\n",
    "ax.plot(sockets)\n",
    "ax.legend(['Named Pipes','Messaging Queues', 'Shared Memory', 'Sockets'])\n",
    "ax.set_title('Round Trip Time Experiment (Linux NIPC)')\n",
    "ax.set_xlabel('Message Size (1024 byte chunks)')\n",
    "ax.set_ylabel('Latency (ns)')\n",
    "\n"
   ]
  },
  {
   "cell_type": "code",
   "execution_count": null,
   "metadata": {},
   "outputs": [],
   "source": [
    "pipes = [62688, 71693, 66158, 94592, 100866, 959228, 98968, 96676, 86020, 106005, 106188, 96520, 108246, 100093, 114261, 126327, 126193, 14150, 123905, 111014, 128071, 121672, 140225, 144801, 112816, 147815, 141989, 151292, 150954, 150040, 146856, 151568, 134320, 149311, 153536, 155869, 155188, 154606, 177413, 148304, 150886]\n",
    "queue = []\n",
    "shared = []\n",
    "sockets = []\n",
    "\n",
    "fig, ax = plt.subplots(figsize=(8, 4), dpi=100)\n",
    "ax.plot(pipes)\n",
    "ax.plot(queue)\n",
    "ax.plot(shared)\n",
    "ax.plot(sockets)\n",
    "ax.legend(['Named Pipes','Messaging Queues', 'Shared Memory', 'Sockets'])\n",
    "ax.set_title('Round Trip Time Experiment (Linux IPC)')\n",
    "ax.set_xlabel('Message Size (1024 byte chunks)')\n",
    "ax.set_ylabel('Latency (ns)')"
   ]
  }
 ],
 "metadata": {
  "kernelspec": {
   "display_name": "Python 3",
   "language": "python",
   "name": "python3"
  },
  "language_info": {
   "codemirror_mode": {
    "name": "ipython",
    "version": 3
   },
   "file_extension": ".py",
   "mimetype": "text/x-python",
   "name": "python",
   "nbconvert_exporter": "python",
   "pygments_lexer": "ipython3",
   "version": "3.10.12"
  }
 },
 "nbformat": 4,
 "nbformat_minor": 2
}
